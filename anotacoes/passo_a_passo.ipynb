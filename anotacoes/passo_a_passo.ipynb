{
 "cells": [
  {
   "cell_type": "markdown",
   "metadata": {},
   "source": [
    "## 1º Passo  -  Criar nova URL em urls.py do app\n",
    "## 2º Passo  -  Criar a função em views com o mesmo \"name\" que está nessa urls.py e rendirizar o HTML q sera criado para essa função\n",
    "## 3º Passo  -  Criar o HTML com o mesmo \"nome\" da função\n",
    "## 4º Passo  -  Adicionar no base_plataforma.html do template de fora essa url, para que ao ser clicado, sera redirecionado para esse html "
   ]
  }
 ],
 "metadata": {
  "kernelspec": {
   "display_name": "Python 3.8.8 ('base')",
   "language": "python",
   "name": "python3"
  },
  "language_info": {
   "name": "python",
   "version": "3.8.8"
  },
  "orig_nbformat": 4,
  "vscode": {
   "interpreter": {
    "hash": "ad2bdc8ecc057115af97d19610ffacc2b4e99fae6737bb82f5d7fb13d2f2c186"
   }
  }
 },
 "nbformat": 4,
 "nbformat_minor": 2
}
